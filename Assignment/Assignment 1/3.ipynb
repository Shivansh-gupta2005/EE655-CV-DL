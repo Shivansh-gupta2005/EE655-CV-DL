{
  "nbformat": 4,
  "nbformat_minor": 0,
  "metadata": {
    "colab": {
      "provenance": []
    },
    "kernelspec": {
      "name": "python3",
      "display_name": "Python 3"
    },
    "language_info": {
      "name": "python"
    }
  },
  "cells": [
    {
      "cell_type": "code",
      "execution_count": 12,
      "metadata": {
        "colab": {
          "base_uri": "https://localhost:8080/"
        },
        "id": "aIDUOv8GDPD1",
        "outputId": "5497ce2f-5bcd-4bc5-f076-387f6a0bd175"
      },
      "outputs": [
        {
          "output_type": "stream",
          "name": "stdout",
          "text": [
            "Warning: Looks like you're using an outdated `kagglehub` version (installed: 0.3.7), please consider upgrading to the latest version (0.3.8).\n",
            "Path to dataset files: /root/.cache/kagglehub/datasets/tongpython/cat-and-dog/versions/1\n"
          ]
        }
      ],
      "source": [
        "import kagglehub\n",
        "path = kagglehub.dataset_download(\"tongpython/cat-and-dog\")\n",
        "print(\"Path to dataset files:\", path)"
      ]
    },
    {
      "cell_type": "code",
      "source": [
        "import numpy as np\n",
        "import pandas as pd\n",
        "import os\n",
        "for dirname, _, filenames in os.walk('/root/.cache/kagglehub/datasets/tongpython/cat-and-dog/versions/1'):\n",
        " for filename in filenames[:10]:\n",
        "   print(os.path.join(dirname, filename))"
      ],
      "metadata": {
        "colab": {
          "base_uri": "https://localhost:8080/"
        },
        "id": "jQbalM7iDcUq",
        "outputId": "21a27881-3585-4e01-8506-c37abc726962"
      },
      "execution_count": 13,
      "outputs": [
        {
          "output_type": "stream",
          "name": "stdout",
          "text": [
            "/root/.cache/kagglehub/datasets/tongpython/cat-and-dog/versions/1/training_set/training_set/cats/cat.1193.jpg\n",
            "/root/.cache/kagglehub/datasets/tongpython/cat-and-dog/versions/1/training_set/training_set/cats/cat.1646.jpg\n",
            "/root/.cache/kagglehub/datasets/tongpython/cat-and-dog/versions/1/training_set/training_set/cats/cat.1729.jpg\n",
            "/root/.cache/kagglehub/datasets/tongpython/cat-and-dog/versions/1/training_set/training_set/cats/cat.1084.jpg\n",
            "/root/.cache/kagglehub/datasets/tongpython/cat-and-dog/versions/1/training_set/training_set/cats/cat.1021.jpg\n",
            "/root/.cache/kagglehub/datasets/tongpython/cat-and-dog/versions/1/training_set/training_set/cats/cat.2726.jpg\n",
            "/root/.cache/kagglehub/datasets/tongpython/cat-and-dog/versions/1/training_set/training_set/cats/cat.3593.jpg\n",
            "/root/.cache/kagglehub/datasets/tongpython/cat-and-dog/versions/1/training_set/training_set/cats/cat.205.jpg\n",
            "/root/.cache/kagglehub/datasets/tongpython/cat-and-dog/versions/1/training_set/training_set/cats/cat.3740.jpg\n",
            "/root/.cache/kagglehub/datasets/tongpython/cat-and-dog/versions/1/training_set/training_set/cats/cat.2072.jpg\n",
            "/root/.cache/kagglehub/datasets/tongpython/cat-and-dog/versions/1/training_set/training_set/dogs/dog.491.jpg\n",
            "/root/.cache/kagglehub/datasets/tongpython/cat-and-dog/versions/1/training_set/training_set/dogs/dog.1865.jpg\n",
            "/root/.cache/kagglehub/datasets/tongpython/cat-and-dog/versions/1/training_set/training_set/dogs/dog.3396.jpg\n",
            "/root/.cache/kagglehub/datasets/tongpython/cat-and-dog/versions/1/training_set/training_set/dogs/dog.3034.jpg\n",
            "/root/.cache/kagglehub/datasets/tongpython/cat-and-dog/versions/1/training_set/training_set/dogs/dog.1254.jpg\n",
            "/root/.cache/kagglehub/datasets/tongpython/cat-and-dog/versions/1/training_set/training_set/dogs/dog.3094.jpg\n",
            "/root/.cache/kagglehub/datasets/tongpython/cat-and-dog/versions/1/training_set/training_set/dogs/dog.2232.jpg\n",
            "/root/.cache/kagglehub/datasets/tongpython/cat-and-dog/versions/1/training_set/training_set/dogs/dog.3360.jpg\n",
            "/root/.cache/kagglehub/datasets/tongpython/cat-and-dog/versions/1/training_set/training_set/dogs/dog.695.jpg\n",
            "/root/.cache/kagglehub/datasets/tongpython/cat-and-dog/versions/1/training_set/training_set/dogs/dog.2094.jpg\n",
            "/root/.cache/kagglehub/datasets/tongpython/cat-and-dog/versions/1/test_set/test_set/cats/cat.4893.jpg\n",
            "/root/.cache/kagglehub/datasets/tongpython/cat-and-dog/versions/1/test_set/test_set/cats/cat.4911.jpg\n",
            "/root/.cache/kagglehub/datasets/tongpython/cat-and-dog/versions/1/test_set/test_set/cats/cat.4863.jpg\n",
            "/root/.cache/kagglehub/datasets/tongpython/cat-and-dog/versions/1/test_set/test_set/cats/cat.4188.jpg\n",
            "/root/.cache/kagglehub/datasets/tongpython/cat-and-dog/versions/1/test_set/test_set/cats/cat.4016.jpg\n",
            "/root/.cache/kagglehub/datasets/tongpython/cat-and-dog/versions/1/test_set/test_set/cats/cat.4059.jpg\n",
            "/root/.cache/kagglehub/datasets/tongpython/cat-and-dog/versions/1/test_set/test_set/cats/cat.4713.jpg\n",
            "/root/.cache/kagglehub/datasets/tongpython/cat-and-dog/versions/1/test_set/test_set/cats/cat.4665.jpg\n",
            "/root/.cache/kagglehub/datasets/tongpython/cat-and-dog/versions/1/test_set/test_set/cats/cat.4488.jpg\n",
            "/root/.cache/kagglehub/datasets/tongpython/cat-and-dog/versions/1/test_set/test_set/cats/cat.4387.jpg\n",
            "/root/.cache/kagglehub/datasets/tongpython/cat-and-dog/versions/1/test_set/test_set/dogs/dog.4948.jpg\n",
            "/root/.cache/kagglehub/datasets/tongpython/cat-and-dog/versions/1/test_set/test_set/dogs/dog.4002.jpg\n",
            "/root/.cache/kagglehub/datasets/tongpython/cat-and-dog/versions/1/test_set/test_set/dogs/dog.4754.jpg\n",
            "/root/.cache/kagglehub/datasets/tongpython/cat-and-dog/versions/1/test_set/test_set/dogs/dog.4412.jpg\n",
            "/root/.cache/kagglehub/datasets/tongpython/cat-and-dog/versions/1/test_set/test_set/dogs/dog.4573.jpg\n",
            "/root/.cache/kagglehub/datasets/tongpython/cat-and-dog/versions/1/test_set/test_set/dogs/dog.4669.jpg\n",
            "/root/.cache/kagglehub/datasets/tongpython/cat-and-dog/versions/1/test_set/test_set/dogs/dog.4346.jpg\n",
            "/root/.cache/kagglehub/datasets/tongpython/cat-and-dog/versions/1/test_set/test_set/dogs/dog.4384.jpg\n",
            "/root/.cache/kagglehub/datasets/tongpython/cat-and-dog/versions/1/test_set/test_set/dogs/dog.4816.jpg\n",
            "/root/.cache/kagglehub/datasets/tongpython/cat-and-dog/versions/1/test_set/test_set/dogs/dog.4137.jpg\n"
          ]
        }
      ]
    },
    {
      "cell_type": "markdown",
      "source": [
        "Importing required libraries"
      ],
      "metadata": {
        "id": "j1VPTb8cSj3k"
      }
    },
    {
      "cell_type": "code",
      "source": [
        "import cv2\n",
        "import numpy as np\n",
        "import os\n",
        "from sklearn.ensemble import RandomForestClassifier\n",
        "from sklearn.metrics import accuracy_score\n",
        "from tqdm import tqdm"
      ],
      "metadata": {
        "id": "bw8w-njhSnYQ"
      },
      "execution_count": 14,
      "outputs": []
    },
    {
      "cell_type": "markdown",
      "source": [
        "Parameters for HOG"
      ],
      "metadata": {
        "id": "oUyiUkuZSpq3"
      }
    },
    {
      "cell_type": "code",
      "source": [
        "CELL_SIZE = 8\n",
        "BLOCK_SIZE = 2\n",
        "NUM_BINS = 9\n",
        "EPSILON = 1e-5"
      ],
      "metadata": {
        "id": "c1viSJ8rSrlv"
      },
      "execution_count": 15,
      "outputs": []
    },
    {
      "cell_type": "markdown",
      "source": [
        "Compute Roberts cross gradients for an image"
      ],
      "metadata": {
        "id": "q_0PkC-1Tb2F"
      }
    },
    {
      "cell_type": "code",
      "source": [
        "def compute_roberts(image):\n",
        "    gx = image[:-1, :-1].astype(np.float32) - image[1:, 1:].astype(np.float32)\n",
        "    gy = image[:-1, 1:].astype(np.float32) - image[1:, :-1].astype(np.float32)\n",
        "    return gx, gy"
      ],
      "metadata": {
        "id": "qT0757I8Sv4O"
      },
      "execution_count": 16,
      "outputs": []
    },
    {
      "cell_type": "markdown",
      "source": [
        "Compute HOG features using Roberts cross gradients"
      ],
      "metadata": {
        "id": "CIF-f--2TZIC"
      }
    },
    {
      "cell_type": "code",
      "source": [
        "def compute_hog(image):\n",
        "    gx, gy = compute_roberts(image)\n",
        "\n",
        "    # Compute magnitude and orientation\n",
        "    magnitude = np.sqrt(gx**2 + gy**2)\n",
        "    orientation = np.arctan2(gy, gx) * (180 / np.pi)\n",
        "    orientation = np.mod(orientation, 180)\n",
        "\n",
        "    # Trim to multiples of CELL_SIZE\n",
        "    h, w = magnitude.shape\n",
        "    num_cells_y, num_cells_x = h // CELL_SIZE, w // CELL_SIZE\n",
        "    magnitude = magnitude[:num_cells_y * CELL_SIZE, :num_cells_x * CELL_SIZE]\n",
        "    orientation = orientation[:num_cells_y * CELL_SIZE, :num_cells_x * CELL_SIZE]\n",
        "\n",
        "    # Reshape into cells\n",
        "    cell_mag = magnitude.reshape(num_cells_y, CELL_SIZE, num_cells_x, CELL_SIZE).transpose(0, 2, 1, 3)\n",
        "    cell_ori = orientation.reshape(num_cells_y, CELL_SIZE, num_cells_x, CELL_SIZE).transpose(0, 2, 1, 3)\n",
        "\n",
        "    # Compute cell histograms\n",
        "    cell_hist = np.zeros((num_cells_y, num_cells_x, NUM_BINS))\n",
        "    bin_width = 180 / NUM_BINS\n",
        "\n",
        "    for y in range(num_cells_y):\n",
        "        for x in range(num_cells_x):\n",
        "            mag_cell = cell_mag[y, x]\n",
        "            ori_cell = cell_ori[y, x]\n",
        "            hist = np.zeros(NUM_BINS)\n",
        "\n",
        "            for i in range(CELL_SIZE):\n",
        "                for j in range(CELL_SIZE):\n",
        "                    theta = ori_cell[i, j]\n",
        "                    mag = mag_cell[i, j]\n",
        "                    bin_idx = theta / bin_width\n",
        "                    lower_bin = int(np.floor(bin_idx)) % NUM_BINS\n",
        "                    upper_bin = (lower_bin + 1) % NUM_BINS\n",
        "                    fraction = bin_idx - np.floor(bin_idx)\n",
        "\n",
        "                    hist[lower_bin] += mag * (1 - fraction)\n",
        "                    hist[upper_bin] += mag * fraction\n",
        "            cell_hist[y, x] = hist\n",
        "\n",
        "    # Block normalization\n",
        "    features = []\n",
        "    for y in range(num_cells_y - BLOCK_SIZE + 1):\n",
        "        for x in range(num_cells_x - BLOCK_SIZE + 1):\n",
        "            block = cell_hist[y:y + BLOCK_SIZE, x:x + BLOCK_SIZE].ravel()\n",
        "\n",
        "            # L2 normalization\n",
        "            norm = np.sqrt(np.sum(block**2) + EPSILON)\n",
        "            block_norm = block / norm\n",
        "\n",
        "            # Clip and re-normalize\n",
        "            block_norm = np.clip(block_norm, 0, 0.2)\n",
        "            norm_clip = np.sqrt(np.sum(block_norm**2) + EPSILON)\n",
        "            block_norm = block_norm / norm_clip\n",
        "\n",
        "            features.extend(block_norm)\n",
        "\n",
        "    return np.array(features)"
      ],
      "metadata": {
        "id": "OsbIlcd3SwfX"
      },
      "execution_count": 17,
      "outputs": []
    },
    {
      "cell_type": "markdown",
      "source": [
        "Load and preprocess an image"
      ],
      "metadata": {
        "id": "wvcaUcNFTVXO"
      }
    },
    {
      "cell_type": "code",
      "source": [
        "def load_image(image_path):\n",
        "    image = cv2.imread(image_path)\n",
        "    if image is None:\n",
        "        print(f\"Warning: Unable to load {image_path}\")\n",
        "        return None\n",
        "    gray = cv2.cvtColor(image, cv2.COLOR_BGR2GRAY)\n",
        "    resized = cv2.resize(gray, (64, 64))\n",
        "    return resized"
      ],
      "metadata": {
        "id": "8WJY5w2MS3gc"
      },
      "execution_count": 18,
      "outputs": []
    },
    {
      "cell_type": "markdown",
      "source": [
        "Load dataset and compute HOG features"
      ],
      "metadata": {
        "id": "3B-ZiubJTQmi"
      }
    },
    {
      "cell_type": "code",
      "source": [
        "def load_dataset(dataset_dir):\n",
        "    features, labels = [], []\n",
        "\n",
        "    for class_name in ['cats', 'dogs']:\n",
        "        class_dir = os.path.join(dataset_dir, class_name)\n",
        "        label = 0 if class_name == 'cats' else 1\n",
        "\n",
        "        for filename in tqdm(os.listdir(class_dir), desc=f\"Processing {class_name}\"):\n",
        "            if filename.endswith('.jpg'):\n",
        "                image_path = os.path.join(class_dir, filename)\n",
        "                image = load_image(image_path)\n",
        "                if image is None:\n",
        "                    continue\n",
        "                hog = compute_hog(image)\n",
        "                features.append(hog)\n",
        "                labels.append(label)\n",
        "\n",
        "    return np.vstack(features), np.array(labels)"
      ],
      "metadata": {
        "id": "ZLoJWn64S5Gx"
      },
      "execution_count": 19,
      "outputs": []
    },
    {
      "cell_type": "markdown",
      "source": [
        "Load datasets"
      ],
      "metadata": {
        "id": "bEd7U6J2S8KJ"
      }
    },
    {
      "cell_type": "code",
      "source": [
        "train_dir = '/root/.cache/kagglehub/datasets/tongpython/cat-and-dog/versions/1/training_set/training_set/'\n",
        "test_dir = '/root/.cache/kagglehub/datasets/tongpython/cat-and-dog/versions/1/test_set/test_set/'"
      ],
      "metadata": {
        "id": "kg_9B22LS-Ij"
      },
      "execution_count": 20,
      "outputs": []
    },
    {
      "cell_type": "code",
      "source": [
        "X_train, y_train = load_dataset(train_dir)\n",
        "X_test, y_test = load_dataset(test_dir)"
      ],
      "metadata": {
        "colab": {
          "base_uri": "https://localhost:8080/"
        },
        "id": "fHhssW7kTAYE",
        "outputId": "d9e80769-6cc4-4ad8-8677-583f11ea6102"
      },
      "execution_count": 21,
      "outputs": [
        {
          "output_type": "stream",
          "name": "stderr",
          "text": [
            "Processing cats: 100%|██████████| 4001/4001 [01:31<00:00, 43.56it/s]\n",
            "Processing dogs: 100%|██████████| 4006/4006 [01:31<00:00, 43.84it/s]\n",
            "Processing cats: 100%|██████████| 1012/1012 [00:23<00:00, 43.20it/s]\n",
            "Processing dogs: 100%|██████████| 1013/1013 [00:23<00:00, 44.04it/s]\n"
          ]
        }
      ]
    },
    {
      "cell_type": "markdown",
      "source": [
        "Train Random Forest classifier"
      ],
      "metadata": {
        "id": "fnd-_Dh4TCVc"
      }
    },
    {
      "cell_type": "code",
      "source": [
        "clf = RandomForestClassifier(n_estimators=200, n_jobs=-1, random_state=42)\n",
        "clf.fit(X_train, y_train)"
      ],
      "metadata": {
        "colab": {
          "base_uri": "https://localhost:8080/",
          "height": 80
        },
        "id": "2vLUxXidTD74",
        "outputId": "0690d6b3-a7d5-43c6-b798-e730a43c3017"
      },
      "execution_count": 22,
      "outputs": [
        {
          "output_type": "execute_result",
          "data": {
            "text/plain": [
              "RandomForestClassifier(n_estimators=200, n_jobs=-1, random_state=42)"
            ],
            "text/html": [
              "<style>#sk-container-id-1 {\n",
              "  /* Definition of color scheme common for light and dark mode */\n",
              "  --sklearn-color-text: #000;\n",
              "  --sklearn-color-text-muted: #666;\n",
              "  --sklearn-color-line: gray;\n",
              "  /* Definition of color scheme for unfitted estimators */\n",
              "  --sklearn-color-unfitted-level-0: #fff5e6;\n",
              "  --sklearn-color-unfitted-level-1: #f6e4d2;\n",
              "  --sklearn-color-unfitted-level-2: #ffe0b3;\n",
              "  --sklearn-color-unfitted-level-3: chocolate;\n",
              "  /* Definition of color scheme for fitted estimators */\n",
              "  --sklearn-color-fitted-level-0: #f0f8ff;\n",
              "  --sklearn-color-fitted-level-1: #d4ebff;\n",
              "  --sklearn-color-fitted-level-2: #b3dbfd;\n",
              "  --sklearn-color-fitted-level-3: cornflowerblue;\n",
              "\n",
              "  /* Specific color for light theme */\n",
              "  --sklearn-color-text-on-default-background: var(--sg-text-color, var(--theme-code-foreground, var(--jp-content-font-color1, black)));\n",
              "  --sklearn-color-background: var(--sg-background-color, var(--theme-background, var(--jp-layout-color0, white)));\n",
              "  --sklearn-color-border-box: var(--sg-text-color, var(--theme-code-foreground, var(--jp-content-font-color1, black)));\n",
              "  --sklearn-color-icon: #696969;\n",
              "\n",
              "  @media (prefers-color-scheme: dark) {\n",
              "    /* Redefinition of color scheme for dark theme */\n",
              "    --sklearn-color-text-on-default-background: var(--sg-text-color, var(--theme-code-foreground, var(--jp-content-font-color1, white)));\n",
              "    --sklearn-color-background: var(--sg-background-color, var(--theme-background, var(--jp-layout-color0, #111)));\n",
              "    --sklearn-color-border-box: var(--sg-text-color, var(--theme-code-foreground, var(--jp-content-font-color1, white)));\n",
              "    --sklearn-color-icon: #878787;\n",
              "  }\n",
              "}\n",
              "\n",
              "#sk-container-id-1 {\n",
              "  color: var(--sklearn-color-text);\n",
              "}\n",
              "\n",
              "#sk-container-id-1 pre {\n",
              "  padding: 0;\n",
              "}\n",
              "\n",
              "#sk-container-id-1 input.sk-hidden--visually {\n",
              "  border: 0;\n",
              "  clip: rect(1px 1px 1px 1px);\n",
              "  clip: rect(1px, 1px, 1px, 1px);\n",
              "  height: 1px;\n",
              "  margin: -1px;\n",
              "  overflow: hidden;\n",
              "  padding: 0;\n",
              "  position: absolute;\n",
              "  width: 1px;\n",
              "}\n",
              "\n",
              "#sk-container-id-1 div.sk-dashed-wrapped {\n",
              "  border: 1px dashed var(--sklearn-color-line);\n",
              "  margin: 0 0.4em 0.5em 0.4em;\n",
              "  box-sizing: border-box;\n",
              "  padding-bottom: 0.4em;\n",
              "  background-color: var(--sklearn-color-background);\n",
              "}\n",
              "\n",
              "#sk-container-id-1 div.sk-container {\n",
              "  /* jupyter's `normalize.less` sets `[hidden] { display: none; }`\n",
              "     but bootstrap.min.css set `[hidden] { display: none !important; }`\n",
              "     so we also need the `!important` here to be able to override the\n",
              "     default hidden behavior on the sphinx rendered scikit-learn.org.\n",
              "     See: https://github.com/scikit-learn/scikit-learn/issues/21755 */\n",
              "  display: inline-block !important;\n",
              "  position: relative;\n",
              "}\n",
              "\n",
              "#sk-container-id-1 div.sk-text-repr-fallback {\n",
              "  display: none;\n",
              "}\n",
              "\n",
              "div.sk-parallel-item,\n",
              "div.sk-serial,\n",
              "div.sk-item {\n",
              "  /* draw centered vertical line to link estimators */\n",
              "  background-image: linear-gradient(var(--sklearn-color-text-on-default-background), var(--sklearn-color-text-on-default-background));\n",
              "  background-size: 2px 100%;\n",
              "  background-repeat: no-repeat;\n",
              "  background-position: center center;\n",
              "}\n",
              "\n",
              "/* Parallel-specific style estimator block */\n",
              "\n",
              "#sk-container-id-1 div.sk-parallel-item::after {\n",
              "  content: \"\";\n",
              "  width: 100%;\n",
              "  border-bottom: 2px solid var(--sklearn-color-text-on-default-background);\n",
              "  flex-grow: 1;\n",
              "}\n",
              "\n",
              "#sk-container-id-1 div.sk-parallel {\n",
              "  display: flex;\n",
              "  align-items: stretch;\n",
              "  justify-content: center;\n",
              "  background-color: var(--sklearn-color-background);\n",
              "  position: relative;\n",
              "}\n",
              "\n",
              "#sk-container-id-1 div.sk-parallel-item {\n",
              "  display: flex;\n",
              "  flex-direction: column;\n",
              "}\n",
              "\n",
              "#sk-container-id-1 div.sk-parallel-item:first-child::after {\n",
              "  align-self: flex-end;\n",
              "  width: 50%;\n",
              "}\n",
              "\n",
              "#sk-container-id-1 div.sk-parallel-item:last-child::after {\n",
              "  align-self: flex-start;\n",
              "  width: 50%;\n",
              "}\n",
              "\n",
              "#sk-container-id-1 div.sk-parallel-item:only-child::after {\n",
              "  width: 0;\n",
              "}\n",
              "\n",
              "/* Serial-specific style estimator block */\n",
              "\n",
              "#sk-container-id-1 div.sk-serial {\n",
              "  display: flex;\n",
              "  flex-direction: column;\n",
              "  align-items: center;\n",
              "  background-color: var(--sklearn-color-background);\n",
              "  padding-right: 1em;\n",
              "  padding-left: 1em;\n",
              "}\n",
              "\n",
              "\n",
              "/* Toggleable style: style used for estimator/Pipeline/ColumnTransformer box that is\n",
              "clickable and can be expanded/collapsed.\n",
              "- Pipeline and ColumnTransformer use this feature and define the default style\n",
              "- Estimators will overwrite some part of the style using the `sk-estimator` class\n",
              "*/\n",
              "\n",
              "/* Pipeline and ColumnTransformer style (default) */\n",
              "\n",
              "#sk-container-id-1 div.sk-toggleable {\n",
              "  /* Default theme specific background. It is overwritten whether we have a\n",
              "  specific estimator or a Pipeline/ColumnTransformer */\n",
              "  background-color: var(--sklearn-color-background);\n",
              "}\n",
              "\n",
              "/* Toggleable label */\n",
              "#sk-container-id-1 label.sk-toggleable__label {\n",
              "  cursor: pointer;\n",
              "  display: flex;\n",
              "  width: 100%;\n",
              "  margin-bottom: 0;\n",
              "  padding: 0.5em;\n",
              "  box-sizing: border-box;\n",
              "  text-align: center;\n",
              "  align-items: start;\n",
              "  justify-content: space-between;\n",
              "  gap: 0.5em;\n",
              "}\n",
              "\n",
              "#sk-container-id-1 label.sk-toggleable__label .caption {\n",
              "  font-size: 0.6rem;\n",
              "  font-weight: lighter;\n",
              "  color: var(--sklearn-color-text-muted);\n",
              "}\n",
              "\n",
              "#sk-container-id-1 label.sk-toggleable__label-arrow:before {\n",
              "  /* Arrow on the left of the label */\n",
              "  content: \"▸\";\n",
              "  float: left;\n",
              "  margin-right: 0.25em;\n",
              "  color: var(--sklearn-color-icon);\n",
              "}\n",
              "\n",
              "#sk-container-id-1 label.sk-toggleable__label-arrow:hover:before {\n",
              "  color: var(--sklearn-color-text);\n",
              "}\n",
              "\n",
              "/* Toggleable content - dropdown */\n",
              "\n",
              "#sk-container-id-1 div.sk-toggleable__content {\n",
              "  max-height: 0;\n",
              "  max-width: 0;\n",
              "  overflow: hidden;\n",
              "  text-align: left;\n",
              "  /* unfitted */\n",
              "  background-color: var(--sklearn-color-unfitted-level-0);\n",
              "}\n",
              "\n",
              "#sk-container-id-1 div.sk-toggleable__content.fitted {\n",
              "  /* fitted */\n",
              "  background-color: var(--sklearn-color-fitted-level-0);\n",
              "}\n",
              "\n",
              "#sk-container-id-1 div.sk-toggleable__content pre {\n",
              "  margin: 0.2em;\n",
              "  border-radius: 0.25em;\n",
              "  color: var(--sklearn-color-text);\n",
              "  /* unfitted */\n",
              "  background-color: var(--sklearn-color-unfitted-level-0);\n",
              "}\n",
              "\n",
              "#sk-container-id-1 div.sk-toggleable__content.fitted pre {\n",
              "  /* unfitted */\n",
              "  background-color: var(--sklearn-color-fitted-level-0);\n",
              "}\n",
              "\n",
              "#sk-container-id-1 input.sk-toggleable__control:checked~div.sk-toggleable__content {\n",
              "  /* Expand drop-down */\n",
              "  max-height: 200px;\n",
              "  max-width: 100%;\n",
              "  overflow: auto;\n",
              "}\n",
              "\n",
              "#sk-container-id-1 input.sk-toggleable__control:checked~label.sk-toggleable__label-arrow:before {\n",
              "  content: \"▾\";\n",
              "}\n",
              "\n",
              "/* Pipeline/ColumnTransformer-specific style */\n",
              "\n",
              "#sk-container-id-1 div.sk-label input.sk-toggleable__control:checked~label.sk-toggleable__label {\n",
              "  color: var(--sklearn-color-text);\n",
              "  background-color: var(--sklearn-color-unfitted-level-2);\n",
              "}\n",
              "\n",
              "#sk-container-id-1 div.sk-label.fitted input.sk-toggleable__control:checked~label.sk-toggleable__label {\n",
              "  background-color: var(--sklearn-color-fitted-level-2);\n",
              "}\n",
              "\n",
              "/* Estimator-specific style */\n",
              "\n",
              "/* Colorize estimator box */\n",
              "#sk-container-id-1 div.sk-estimator input.sk-toggleable__control:checked~label.sk-toggleable__label {\n",
              "  /* unfitted */\n",
              "  background-color: var(--sklearn-color-unfitted-level-2);\n",
              "}\n",
              "\n",
              "#sk-container-id-1 div.sk-estimator.fitted input.sk-toggleable__control:checked~label.sk-toggleable__label {\n",
              "  /* fitted */\n",
              "  background-color: var(--sklearn-color-fitted-level-2);\n",
              "}\n",
              "\n",
              "#sk-container-id-1 div.sk-label label.sk-toggleable__label,\n",
              "#sk-container-id-1 div.sk-label label {\n",
              "  /* The background is the default theme color */\n",
              "  color: var(--sklearn-color-text-on-default-background);\n",
              "}\n",
              "\n",
              "/* On hover, darken the color of the background */\n",
              "#sk-container-id-1 div.sk-label:hover label.sk-toggleable__label {\n",
              "  color: var(--sklearn-color-text);\n",
              "  background-color: var(--sklearn-color-unfitted-level-2);\n",
              "}\n",
              "\n",
              "/* Label box, darken color on hover, fitted */\n",
              "#sk-container-id-1 div.sk-label.fitted:hover label.sk-toggleable__label.fitted {\n",
              "  color: var(--sklearn-color-text);\n",
              "  background-color: var(--sklearn-color-fitted-level-2);\n",
              "}\n",
              "\n",
              "/* Estimator label */\n",
              "\n",
              "#sk-container-id-1 div.sk-label label {\n",
              "  font-family: monospace;\n",
              "  font-weight: bold;\n",
              "  display: inline-block;\n",
              "  line-height: 1.2em;\n",
              "}\n",
              "\n",
              "#sk-container-id-1 div.sk-label-container {\n",
              "  text-align: center;\n",
              "}\n",
              "\n",
              "/* Estimator-specific */\n",
              "#sk-container-id-1 div.sk-estimator {\n",
              "  font-family: monospace;\n",
              "  border: 1px dotted var(--sklearn-color-border-box);\n",
              "  border-radius: 0.25em;\n",
              "  box-sizing: border-box;\n",
              "  margin-bottom: 0.5em;\n",
              "  /* unfitted */\n",
              "  background-color: var(--sklearn-color-unfitted-level-0);\n",
              "}\n",
              "\n",
              "#sk-container-id-1 div.sk-estimator.fitted {\n",
              "  /* fitted */\n",
              "  background-color: var(--sklearn-color-fitted-level-0);\n",
              "}\n",
              "\n",
              "/* on hover */\n",
              "#sk-container-id-1 div.sk-estimator:hover {\n",
              "  /* unfitted */\n",
              "  background-color: var(--sklearn-color-unfitted-level-2);\n",
              "}\n",
              "\n",
              "#sk-container-id-1 div.sk-estimator.fitted:hover {\n",
              "  /* fitted */\n",
              "  background-color: var(--sklearn-color-fitted-level-2);\n",
              "}\n",
              "\n",
              "/* Specification for estimator info (e.g. \"i\" and \"?\") */\n",
              "\n",
              "/* Common style for \"i\" and \"?\" */\n",
              "\n",
              ".sk-estimator-doc-link,\n",
              "a:link.sk-estimator-doc-link,\n",
              "a:visited.sk-estimator-doc-link {\n",
              "  float: right;\n",
              "  font-size: smaller;\n",
              "  line-height: 1em;\n",
              "  font-family: monospace;\n",
              "  background-color: var(--sklearn-color-background);\n",
              "  border-radius: 1em;\n",
              "  height: 1em;\n",
              "  width: 1em;\n",
              "  text-decoration: none !important;\n",
              "  margin-left: 0.5em;\n",
              "  text-align: center;\n",
              "  /* unfitted */\n",
              "  border: var(--sklearn-color-unfitted-level-1) 1pt solid;\n",
              "  color: var(--sklearn-color-unfitted-level-1);\n",
              "}\n",
              "\n",
              ".sk-estimator-doc-link.fitted,\n",
              "a:link.sk-estimator-doc-link.fitted,\n",
              "a:visited.sk-estimator-doc-link.fitted {\n",
              "  /* fitted */\n",
              "  border: var(--sklearn-color-fitted-level-1) 1pt solid;\n",
              "  color: var(--sklearn-color-fitted-level-1);\n",
              "}\n",
              "\n",
              "/* On hover */\n",
              "div.sk-estimator:hover .sk-estimator-doc-link:hover,\n",
              ".sk-estimator-doc-link:hover,\n",
              "div.sk-label-container:hover .sk-estimator-doc-link:hover,\n",
              ".sk-estimator-doc-link:hover {\n",
              "  /* unfitted */\n",
              "  background-color: var(--sklearn-color-unfitted-level-3);\n",
              "  color: var(--sklearn-color-background);\n",
              "  text-decoration: none;\n",
              "}\n",
              "\n",
              "div.sk-estimator.fitted:hover .sk-estimator-doc-link.fitted:hover,\n",
              ".sk-estimator-doc-link.fitted:hover,\n",
              "div.sk-label-container:hover .sk-estimator-doc-link.fitted:hover,\n",
              ".sk-estimator-doc-link.fitted:hover {\n",
              "  /* fitted */\n",
              "  background-color: var(--sklearn-color-fitted-level-3);\n",
              "  color: var(--sklearn-color-background);\n",
              "  text-decoration: none;\n",
              "}\n",
              "\n",
              "/* Span, style for the box shown on hovering the info icon */\n",
              ".sk-estimator-doc-link span {\n",
              "  display: none;\n",
              "  z-index: 9999;\n",
              "  position: relative;\n",
              "  font-weight: normal;\n",
              "  right: .2ex;\n",
              "  padding: .5ex;\n",
              "  margin: .5ex;\n",
              "  width: min-content;\n",
              "  min-width: 20ex;\n",
              "  max-width: 50ex;\n",
              "  color: var(--sklearn-color-text);\n",
              "  box-shadow: 2pt 2pt 4pt #999;\n",
              "  /* unfitted */\n",
              "  background: var(--sklearn-color-unfitted-level-0);\n",
              "  border: .5pt solid var(--sklearn-color-unfitted-level-3);\n",
              "}\n",
              "\n",
              ".sk-estimator-doc-link.fitted span {\n",
              "  /* fitted */\n",
              "  background: var(--sklearn-color-fitted-level-0);\n",
              "  border: var(--sklearn-color-fitted-level-3);\n",
              "}\n",
              "\n",
              ".sk-estimator-doc-link:hover span {\n",
              "  display: block;\n",
              "}\n",
              "\n",
              "/* \"?\"-specific style due to the `<a>` HTML tag */\n",
              "\n",
              "#sk-container-id-1 a.estimator_doc_link {\n",
              "  float: right;\n",
              "  font-size: 1rem;\n",
              "  line-height: 1em;\n",
              "  font-family: monospace;\n",
              "  background-color: var(--sklearn-color-background);\n",
              "  border-radius: 1rem;\n",
              "  height: 1rem;\n",
              "  width: 1rem;\n",
              "  text-decoration: none;\n",
              "  /* unfitted */\n",
              "  color: var(--sklearn-color-unfitted-level-1);\n",
              "  border: var(--sklearn-color-unfitted-level-1) 1pt solid;\n",
              "}\n",
              "\n",
              "#sk-container-id-1 a.estimator_doc_link.fitted {\n",
              "  /* fitted */\n",
              "  border: var(--sklearn-color-fitted-level-1) 1pt solid;\n",
              "  color: var(--sklearn-color-fitted-level-1);\n",
              "}\n",
              "\n",
              "/* On hover */\n",
              "#sk-container-id-1 a.estimator_doc_link:hover {\n",
              "  /* unfitted */\n",
              "  background-color: var(--sklearn-color-unfitted-level-3);\n",
              "  color: var(--sklearn-color-background);\n",
              "  text-decoration: none;\n",
              "}\n",
              "\n",
              "#sk-container-id-1 a.estimator_doc_link.fitted:hover {\n",
              "  /* fitted */\n",
              "  background-color: var(--sklearn-color-fitted-level-3);\n",
              "}\n",
              "</style><div id=\"sk-container-id-1\" class=\"sk-top-container\"><div class=\"sk-text-repr-fallback\"><pre>RandomForestClassifier(n_estimators=200, n_jobs=-1, random_state=42)</pre><b>In a Jupyter environment, please rerun this cell to show the HTML representation or trust the notebook. <br />On GitHub, the HTML representation is unable to render, please try loading this page with nbviewer.org.</b></div><div class=\"sk-container\" hidden><div class=\"sk-item\"><div class=\"sk-estimator fitted sk-toggleable\"><input class=\"sk-toggleable__control sk-hidden--visually\" id=\"sk-estimator-id-1\" type=\"checkbox\" checked><label for=\"sk-estimator-id-1\" class=\"sk-toggleable__label fitted sk-toggleable__label-arrow\"><div><div>RandomForestClassifier</div></div><div><a class=\"sk-estimator-doc-link fitted\" rel=\"noreferrer\" target=\"_blank\" href=\"https://scikit-learn.org/1.6/modules/generated/sklearn.ensemble.RandomForestClassifier.html\">?<span>Documentation for RandomForestClassifier</span></a><span class=\"sk-estimator-doc-link fitted\">i<span>Fitted</span></span></div></label><div class=\"sk-toggleable__content fitted\"><pre>RandomForestClassifier(n_estimators=200, n_jobs=-1, random_state=42)</pre></div> </div></div></div></div>"
            ]
          },
          "metadata": {},
          "execution_count": 22
        }
      ]
    },
    {
      "cell_type": "markdown",
      "source": [
        "Evaluate"
      ],
      "metadata": {
        "id": "XXzKp3BjTGd_"
      }
    },
    {
      "cell_type": "code",
      "source": [
        "y_pred = clf.predict(X_test)\n",
        "accuracy = accuracy_score(y_test, y_pred)\n",
        "print(f'Accuracy: {accuracy:.4f}')"
      ],
      "metadata": {
        "colab": {
          "base_uri": "https://localhost:8080/"
        },
        "id": "-JIuVqRDLQ5g",
        "outputId": "3e4353b9-6288-4f7d-e78b-47ed06d6329e"
      },
      "execution_count": 23,
      "outputs": [
        {
          "output_type": "stream",
          "name": "stdout",
          "text": [
            "Accuracy: 0.7079\n"
          ]
        }
      ]
    }
  ]
}
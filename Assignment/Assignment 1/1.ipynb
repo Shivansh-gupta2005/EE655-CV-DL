{
 "cells": [
  {
   "cell_type": "markdown",
   "metadata": {},
   "source": [
    "## To detect wheather person is smiling or not"
   ]
  },
  {
   "cell_type": "markdown",
   "metadata": {},
   "source": [
    "Importing required libraries"
   ]
  },
  {
   "cell_type": "code",
   "execution_count": 11,
   "metadata": {},
   "outputs": [],
   "source": [
    "import numpy as np"
   ]
  },
  {
   "cell_type": "markdown",
   "metadata": {},
   "source": [
    "Compute smile related features using four key points of the mouth"
   ]
  },
  {
   "cell_type": "code",
   "execution_count": 12,
   "metadata": {},
   "outputs": [],
   "source": [
    "def compute_smile_features(C_L, C_R, T, B):\n",
    "\n",
    "    # Convert keypoints to NumPy arrays\n",
    "    C_L, C_R, T, B = map(np.array, [C_L, C_R, T, B])\n",
    "\n",
    "    # 1) Mouth Width and Height\n",
    "    mouth_width = np.linalg.norm(C_R - C_L)\n",
    "    mouth_height = np.linalg.norm(T - B)\n",
    "    \n",
    "    # Feature 1: Smile Indicator - Mouth width should be greater than height\n",
    "    is_smiling_width = int(mouth_width > mouth_height)\n",
    "\n",
    "    # 2) Mean Corner Elevation\n",
    "    mid_lip = (T + B) / 2.0  # Midpoint between top and bottom lip\n",
    "    left_corner_elev = C_L[1] - mid_lip[1]  \n",
    "    right_corner_elev = C_R[1] - mid_lip[1]\n",
    "    mean_corner_elev = 0.5 * (left_corner_elev + right_corner_elev)\n",
    "\n",
    "    # Feature 2: Smile Indicator - If mouth corners are elevated\n",
    "    is_smiling_elev = int(mean_corner_elev > 0)\n",
    "\n",
    "    # 3) Width-to-Height Ratio\n",
    "    width_height_ratio = mouth_width / (mouth_height + 1e-9)  # Avoid division by zero\n",
    "    \n",
    "    # Feature 3: Smile Indicator - Ratio should be greater than 1\n",
    "    is_smiling_ratio = int(width_height_ratio > 1)\n",
    "\n",
    "    # Final Smile Decision\n",
    "    smile_score = sum([is_smiling_width, is_smiling_elev, is_smiling_ratio])\n",
    "    is_smiling_final = int(smile_score >= 2)  # If at least 2 features indicate a smile\n",
    "\n",
    "    return {\n",
    "        \"Mouth Width > Height\": is_smiling_width,\n",
    "        \"Mean Corner Elevation\": is_smiling_elev,\n",
    "        \"Width-to-Height Ratio\": is_smiling_ratio,\n",
    "        \"Final Smile Prediction\": is_smiling_final  # 1 = Smiling, 0 = Not Smiling\n",
    "    }"
   ]
  },
  {
   "cell_type": "markdown",
   "metadata": {},
   "source": [
    "Example"
   ]
  },
  {
   "cell_type": "code",
   "execution_count": 13,
   "metadata": {},
   "outputs": [
    {
     "name": "stdout",
     "output_type": "stream",
     "text": [
      "{'Mouth Width > Height': 1, 'Mean Corner Elevation': 1, 'Width-to-Height Ratio': 1, 'Final Smile Prediction': 1}\n"
     ]
    }
   ],
   "source": [
    "C_L = (100, 100)\n",
    "C_R = (150, 120)\n",
    "T   = (125, 90)\n",
    "B   = (125, 110)\n",
    "\n",
    "smile_features = compute_smile_features(C_L, C_R, T, B)\n",
    "print(smile_features)"
   ]
  }
 ],
 "metadata": {
  "kernelspec": {
   "display_name": "Python 3",
   "language": "python",
   "name": "python3"
  },
  "language_info": {
   "codemirror_mode": {
    "name": "ipython",
    "version": 3
   },
   "file_extension": ".py",
   "mimetype": "text/x-python",
   "name": "python",
   "nbconvert_exporter": "python",
   "pygments_lexer": "ipython3",
   "version": "3.12.6"
  }
 },
 "nbformat": 4,
 "nbformat_minor": 2
}

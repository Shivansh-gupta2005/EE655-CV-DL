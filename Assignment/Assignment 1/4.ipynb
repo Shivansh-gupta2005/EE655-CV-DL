{
 "cells": [
  {
   "cell_type": "code",
   "execution_count": 4,
   "metadata": {},
   "outputs": [],
   "source": [
    "import cv2\n",
    "import numpy as np\n",
    "from collections import deque"
   ]
  },
  {
   "cell_type": "markdown",
   "metadata": {},
   "source": [
    "Counts objects in a binary image using BFS (Flood Fill)"
   ]
  },
  {
   "cell_type": "code",
   "execution_count": null,
   "metadata": {},
   "outputs": [],
   "source": [
    "def count_objects_bfs(image_path):\n",
    "    # Load image in grayscale\n",
    "    binary_image = cv2.imread(image_path, cv2.IMREAD_GRAYSCALE)\n",
    "\n",
    "    # Convert to binary (Thresholding)\n",
    "    _, binary = cv2.threshold(binary_image, 127, 255, cv2.THRESH_BINARY)\n",
    "\n",
    "    rows, cols = binary.shape\n",
    "    visited = np.zeros((rows, cols), dtype=bool)\n",
    "\n",
    "    # 8-connected neighborhood (Diagonal + Horizontal + Vertical)\n",
    "    directions = [(-1, 0), (1, 0), (0, -1), (0, 1), (-1, -1), (-1, 1), (1, -1), (1, 1)]\n",
    "\n",
    "\n",
    "    # Breadth-First Search to mark connected components\n",
    "    def bfs(x, y):\n",
    "        queue = deque([(x, y)])\n",
    "        visited[x, y] = True\n",
    "\n",
    "        while queue:\n",
    "            cx, cy = queue.popleft()\n",
    "            for dx, dy in directions:\n",
    "                nx, ny = cx + dx, cy + dy\n",
    "                if 0 <= nx < rows and 0 <= ny < cols and binary[nx, ny] == 255 and not visited[nx, ny]:\n",
    "                    visited[nx, ny] = True\n",
    "                    queue.append((nx, ny))\n",
    "\n",
    "    object_count = 0\n",
    "    for i in range(rows):\n",
    "        for j in range(cols):\n",
    "            if binary[i, j] == 255 and not visited[i, j]:\n",
    "                object_count += 1  # Found a new object\n",
    "                bfs(i, j)  # Flood fill entire object\n",
    "\n",
    "    return object_count"
   ]
  },
  {
   "cell_type": "markdown",
   "metadata": {},
   "source": [
    "Usage on objects.png file"
   ]
  },
  {
   "cell_type": "code",
   "execution_count": 6,
   "metadata": {},
   "outputs": [
    {
     "name": "stdout",
     "output_type": "stream",
     "text": [
      "Number of objects in the image: 9\n"
     ]
    }
   ],
   "source": [
    "image_path = \"objects.png\"\n",
    "object_count = count_objects_bfs(image_path)\n",
    "print(f\"Number of objects in the image: {object_count}\")\n"
   ]
  }
 ],
 "metadata": {
  "kernelspec": {
   "display_name": "Python 3",
   "language": "python",
   "name": "python3"
  },
  "language_info": {
   "codemirror_mode": {
    "name": "ipython",
    "version": 3
   },
   "file_extension": ".py",
   "mimetype": "text/x-python",
   "name": "python",
   "nbconvert_exporter": "python",
   "pygments_lexer": "ipython3",
   "version": "3.12.6"
  }
 },
 "nbformat": 4,
 "nbformat_minor": 2
}
